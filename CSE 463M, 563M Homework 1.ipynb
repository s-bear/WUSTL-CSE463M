{
 "metadata": {
  "name": "",
  "signature": "sha256:bfeb388eeeebab928a95b7b74467bb9e7ae53cf699e3f46e95a275a270a5ed68"
 },
 "nbformat": 3,
 "nbformat_minor": 0,
 "worksheets": [
  {
   "cells": [
    {
     "cell_type": "code",
     "collapsed": true,
     "input": [
      "%pylab\n",
      "from IPython.display import Image"
     ],
     "language": "python",
     "metadata": {
      "slideshow": {
       "slide_type": "-"
      }
     },
     "outputs": [
      {
       "output_type": "stream",
       "stream": "stdout",
       "text": [
        "Using matplotlib backend: TkAgg\n",
        "Populating the interactive namespace from numpy and matplotlib\n"
       ]
      }
     ],
     "prompt_number": 3
    },
    {
     "cell_type": "markdown",
     "metadata": {
      "slideshow": {
       "slide_type": "-"
      }
     },
     "source": [
      "#CSE 463M/563M: Digital Integrated Circuit Design and Architecture Homework 1 Solutions\n",
      "\n",
      "##1. Book problems 3.1, 3.2, 3.3, 3.6, 3.9, 3.10\n"
     ]
    },
    {
     "cell_type": "markdown",
     "metadata": {
      "slideshow": {
       "slide_type": "-"
      }
     },
     "source": [
      "**3.1)** Consider a MOS system with the following parameters:\n",
      "- $t_{ox}=1.6\\,\\text{nm}$\n",
      "- $\\phi_{GC}=-1.04\\,\\text{V}$\n",
      "- $N_A=2.8\\cdot 10^{18}\\,\\text{cm}^{-3}$\n",
      "- $Q_{ox}=q 4\\cdot 10^{10} \\,\\text{C/cm}^2$\n",
      "\n",
      "**3.1.a)** Determine the threshold voltage $V_{T0}$ under zero bias at room temperature ($T = 300\\,\\text{K}$). Note that $\\varepsilon_{ox}=3.97\\varepsilon_0$ and $\\varepsilon_{Si}=11.7\\varepsilon_0$."
     ]
    },
    {
     "cell_type": "code",
     "collapsed": false,
     "input": [
      "#convert all quantities to base SI units ie. m instead of cm, etc.\n",
      "q = \n",
      "t_ox = 1.6e-9 # m\n",
      "phi_GC = -1.04 # V\n",
      "N_A = 2.8e24 # m^-3\n",
      "Q_ox = "
     ],
     "language": "python",
     "metadata": {
      "slideshow": {
       "slide_type": "-"
      }
     },
     "outputs": []
    },
    {
     "cell_type": "markdown",
     "metadata": {},
     "source": [
      "**3.1.b)** Determine the type (p-type or n-type) and amount of channel implant ($N_I/cm^2$) required to change the threshold to $0.6\\,\\text{V}$."
     ]
    },
    {
     "cell_type": "markdown",
     "metadata": {},
     "source": [
      "**3.2)** Consider a diffusion area that has the dimensions $0.4\\,\\mu\\text{m}\\times 0.2\\,\\mu\\text{m}$ and the abrupt junction depth is $32\\,\\text{nm}$. Its n-type impurity doping level is $N_D=2\\cdot10^{20}\\,\\text{cm}^{-3}$ and the surrounding p-type substrate doping level is $N_A=2\\cdot10^{20}\\,\\text{cm}^{-3}$. Determine the capacitance when the diffusion area is biased at $1.2\\,\\text{V}$ and the substrate is biased at $0\\,\\text{V}$. In this problem, assume that there is no channel-stop implant."
     ]
    },
    {
     "cell_type": "markdown",
     "metadata": {},
     "source": [
      "**3.3)** Describe the relationship between the mask channel length, $L_M$, and the electrical channel length, $L$. Are they identical? In not, how would you express $L$ in terms of $L_M$ and other parameters?"
     ]
    },
    {
     "cell_type": "markdown",
     "metadata": {},
     "source": [
      "**3.6)** Consider a layout of an nMOS transistor shown in Fig. P3.6. The process parameters are\n",
      "- $N_D=2\\cdot10^{20}\\,\\text{cm}^{-3}$\n",
      "- $N_A=2\\cdot10^{20}\\,\\text{cm}^{-3}$\n",
      "- $X_j=32\\,\\text{nm}$\n",
      "- $L_D=10\\,\\text{nm}$\n",
      "- $t_{ox}=1.6\\,\\text{nm}$\n",
      "- $V_{T0}=0.53\\,\\text{V}$\n",
      "- $(\\text{Channel stop doping})=16.0\\times(\\text{p-type substrate doping})$\n",
      "\n",
      "Find the effective drain parasitic capacitance when the drain node voltage changes from $1.2\\,\\text{V}$ to $0.6\\,\\text{V}$."
     ]
    },
    {
     "cell_type": "code",
     "collapsed": false,
     "input": [
      "Image(filename='fig_p3.6.png')"
     ],
     "language": "python",
     "metadata": {},
     "outputs": [
      {
       "metadata": {},
       "output_type": "pyout",
       "png": "[encoded data removed]",
       "prompt_number": 4,
       "text": [
        "<IPython.core.display.Image at 0x6f9ca90>"
       ]
      }
     ],
     "prompt_number": 4
    },
    {
     "cell_type": "markdown",
     "metadata": {},
     "source": [
      "**3.9)** A pMOS transistor was fabricated on an n-type substrate with a bulk doping density of $N_D=1\\cdot 10^{16}\\,\\text{cm}^{-3}$, a gate doping density of $N_D=10^{20}\\,\\text{cm}^{-3}$, $Q_{ox}/q=4\\cdot 10^{10}\\,\\text{cm}^{-2}$, and a gate oxide thickness of $t_{ox}=1.6\\,\\text{nm}$. Calculate the threshold voltage at room temperature for $V_{SB}=0$. Use $\\varepsilon_{Si}=11.7\\varepsilon_0$."
     ]
    },
    {
     "cell_type": "markdown",
     "metadata": {},
     "source": [
      "**3.10)** Using the parameters given, calculate the current through two nMOS transistors in series (see Fig. P3.10) when the drain of the top transistor is tied to $V_{DD}=1\\,\\text{V}$, the source of the bottom transistor is tied to $V_{SS}=0\\,\\text{V}$, their gates are tied to $V_{DD}$ and their substrates are tied to $V_{SS}$. Assume that $W/L=10$ and $L=4\\,\\mu\\text{m}$ for both transistors.\n",
      "- $k^\\prime=168\\,\\mu\\text{A}/\\text{V}^2$\n",
      "- $V_{T0}=0.48\\,\\text{V}$\n",
      "- $\\gamma=0.52\\,\\text{V}^{1/2}$\n",
      "- $|2\\phi_F|=1.01\\,\\text{V}$\n",
      "\n",
      "Hint: The solution requires several iterations, and the body effect on threshold voltage has to be taken into account. Start with the KCL (Kirchhoff's Current Law) equation."
     ]
    },
    {
     "cell_type": "code",
     "collapsed": false,
     "input": [
      "Image(filename='fig_p3.10.png')"
     ],
     "language": "python",
     "metadata": {},
     "outputs": [
      {
       "metadata": {},
       "output_type": "pyout",
       "png": "[encoded data removed]",
       "prompt_number": 5,
       "text": [
        "<IPython.core.display.Image at 0x6f9cb70>"
       ]
      }
     ],
     "prompt_number": 5
    },
    {
     "cell_type": "markdown",
     "metadata": {},
     "source": [
      "##2. MOSIS NMOS Threshold Voltage\n",
      "Given the model parameters for the NMOS transistor from MOSIS (https://www.mosis.com/cgi-bin/cgiwrap/umosis/swp/params/ami-c5/v3bm-params.txt), compute the threshold voltage assuming the Fermi level for the poly-silicon gate is 0.1eV below the intrinsic Fermi level of silicon and the impurities in the gate oxide are 10k holes/cm$^2$."
     ]
    },
    {
     "cell_type": "code",
     "collapsed": false,
     "input": [],
     "language": "python",
     "metadata": {},
     "outputs": []
    }
   ],
   "metadata": {}
  }
 ]
}