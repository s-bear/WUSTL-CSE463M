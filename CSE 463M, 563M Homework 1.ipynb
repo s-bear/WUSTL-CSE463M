{
 "metadata": {
  "name": "",
  "signature": "sha256:9e1cd3e8d213caf939572aa98aa694473da75c22379b39e0c419421b5879469c"
 },
 "nbformat": 3,
 "nbformat_minor": 0,
 "worksheets": [
  {
   "cells": [
    {
     "cell_type": "code",
     "collapsed": false,
     "input": [
      "%pylab\n",
      "from IPython.display import Image"
     ],
     "language": "python",
     "metadata": {},
     "outputs": [
      {
       "output_type": "stream",
       "stream": "stdout",
       "text": [
        "Using matplotlib backend: TkAgg\n",
        "Populating the interactive namespace from numpy and matplotlib\n"
       ]
      }
     ],
     "prompt_number": 1
    },
    {
     "cell_type": "markdown",
     "metadata": {
      "slideshow": {
       "slide_type": "-"
      }
     },
     "source": [
      "#CSE 463M/563M: Digital Integrated Circuit Design and Architecture Homework 1 Solutions\n",
      "\n",
      "##1. Book problems 3.1, 3.2, 3.3, 3.6, 3.9, 3.10\n"
     ]
    },
    {
     "cell_type": "markdown",
     "metadata": {
      "slideshow": {
       "slide_type": "-"
      }
     },
     "source": [
      "**3.1)** Consider a MOS system with the following parameters:\n",
      "- $t_{ox}=1.6\\,\\text{nm}$\n",
      "- $\\phi_{GC}=-1.04\\,\\text{V}$\n",
      "- $N_A=2.8\\cdot 10^{18}\\,\\text{cm}^{-3}$\n",
      "- $Q_{ox}=q 4\\cdot 10^{10} \\,\\text{C/cm}^2$\n",
      "\n",
      "**3.1.a)** Determine the threshold voltage $V_{T0}$ under zero bias at room temperature ($T = 300\\,\\text{K}$). Note that $\\varepsilon_{ox}=3.97\\varepsilon_0$ and $\\varepsilon_{Si}=11.7\\varepsilon_0$."
     ]
    },
    {
     "cell_type": "markdown",
     "metadata": {},
     "source": [
      "**Solution:** Use equations:\n",
      "- (3.19): $V_{T0}=\\phi_{GC}-2\\phi_{F,substrate}-\\frac{Q_{B0}}{C_{ox}}-\\frac{Q_{ox}}{C_{ox}}$\n",
      "- (3.4): $\\phi_{F,p}=\\frac{kT}{q}\\text{ln}\\left(\\frac{n_i}{N_A}\\right)$\n",
      "- (3.16): $Q_{B0}=-\\sqrt{2 q N_A \\varepsilon_{Si}\\left|-2 \\phi_{F,substrate}\\right|}$\n",
      "- (3.18): $C_{ox}=\\varepsilon_{ox}/t_{ox}$"
     ]
    },
    {
     "cell_type": "code",
     "collapsed": false,
     "input": [
      "#Convert meters to cm and vice versa:\n",
      "m2cm = lambda v,x: v*10**(2*x)\n",
      "cm2m = lambda v,x: v*10**(-2*x)\n",
      "#Physical constants from front of book\n",
      "k = 1.38e-23 #Boltzmann's constant, J/K\n",
      "q = 1.6e-19 #electron charge, C\n",
      "kTq = k*300/q #Thermal voltage at 300K, V\n",
      "E_g = 1.794 #Energy gap of Si, J (=1.12 eV)\n",
      "n_i = 1.45e16 #Intrinsic carrier conc. of Si, /m^3\n",
      "eps_0 = 8.85e-12 #Vacuum permittivity, F/m\n",
      "eps_Si = 11.7*eps_0 #Si permittivity, F/m\n",
      "eps_ox = 3.97*eps_0 #SiO2 permittivity, F/m"
     ],
     "language": "python",
     "metadata": {},
     "outputs": [],
     "prompt_number": 2
    },
    {
     "cell_type": "code",
     "collapsed": false,
     "input": [
      "#convert all quantities to base SI units ie. m instead of cm, etc.\n",
      "t_ox = 1.6e-9 # m\n",
      "phi_GC = -1.04 # V\n",
      "N_A = cm2m(2.8e18,-3) # /m^3\n",
      "Q_ox = cm2m(q*4e10,-2) #C/m^2\n",
      "\n",
      "#Eq. (3.4)\n",
      "phi_Fsub = 0.026 * log(n_i/N_A)\n",
      "#Eq. (3.16)\n",
      "Q_B0 = -sqrt(2*q*N_A*eps_Si*abs(-2*phi_Fsub))\n",
      "#Eq. (3.18)\n",
      "C_ox = eps_ox/t_ox\n",
      "#Eq. (3.19)\n",
      "V_T0 = phi_GC - 2*phi_Fsub - Q_B0/C_ox - Q_ox/C_ox\n",
      "#display in cm\n",
      "print('phi_Fsub = {:g} V'.format(phi_Fsub))\n",
      "print('Q_B0 = {:g} C/cm^2'.format(m2cm(Q_B0,-2)))\n",
      "print('Q_ox = {:g} C/cm^2'.format(m2cm(Q_ox,-2)))\n",
      "print('C_ox = {:g} F/cm^2'.format(m2cm(C_ox,-2)))\n",
      "print('V_T0 = {:g} V'.format(V_T0))"
     ],
     "language": "python",
     "metadata": {
      "slideshow": {
       "slide_type": "-"
      }
     },
     "outputs": [
      {
       "output_type": "stream",
       "stream": "stdout",
       "text": [
        "phi_Fsub = -0.496047 V\n",
        "Q_B0 = -9.5939e-07 C/cm^2\n",
        "Q_ox = 6.4e-09 C/cm^2\n",
        "C_ox = 2.19591e-06 F/cm^2\n",
        "V_T0 = 0.386079 V\n"
       ]
      }
     ],
     "prompt_number": 3
    },
    {
     "cell_type": "markdown",
     "metadata": {},
     "source": [
      "**3.1.b)** Determine the type (p-type or n-type) and amount of channel implant ($N_I/cm^2$) required to change the threshold to $0.6\\,\\text{V}$."
     ]
    },
    {
     "cell_type": "markdown",
     "metadata": {},
     "source": [
      "**Solution:** As in example 3.6, the channel implant introduces a surface-charge of $+qN_I$ for a p-type implant or $-qN_I$ for n-type implant. In part (a) the donor concentration is given as $N_A$, so the substrate is p-type. To increase the threshold voltage from $0.39\\,\\text{V}$ to $0.6\\,\\text{V}$ we'll need to insert more p-type dopants corresponding to a threshold change of $\\Delta V_{T0}=0.6-0.39=qN_I/C_{ox}$, or $N_I=\\Delta V_{T0}\\cdot C_{ox}/q$:"
     ]
    },
    {
     "cell_type": "code",
     "collapsed": false,
     "input": [
      "N_I = (0.6-V_T0)*C_ox/q\n",
      "print('N_I = {:g} acceptors/cm^2'.format(m2cm(N_I,-2)))"
     ],
     "language": "python",
     "metadata": {},
     "outputs": [
      {
       "output_type": "stream",
       "stream": "stdout",
       "text": [
        "N_I = 2.93594e+12 acceptors/cm^2\n"
       ]
      }
     ],
     "prompt_number": 4
    },
    {
     "cell_type": "markdown",
     "metadata": {},
     "source": [
      "**3.2)** Consider a diffusion area that has the dimensions $0.4\\,\\mu\\text{m}\\times 0.2\\,\\mu\\text{m}$ and the abrupt junction depth is $32\\,\\text{nm}$. Its n-type impurity doping level is $N_D=2\\cdot10^{20}\\,\\text{cm}^{-3}$ and the surrounding p-type substrate doping level is $N_A=2\\cdot10^{20}\\,\\text{cm}^{-3}$. Determine the capacitance when the diffusion area is biased at $1.2\\,\\text{V}$ and the substrate is biased at $0\\,\\text{V}$. In this problem, assume that there is no channel-stop implant."
     ]
    },
    {
     "cell_type": "markdown",
     "metadata": {},
     "source": [
      "**Solution:** Using equations:\n",
      "- (3.127): $C_j(V)=A\\cdot\\sqrt{\\frac{\\varepsilon_{Si}\\cdot q}{2}\\left(\\frac{N_A\\cdot N_D}{N_A + N_D}\\right)}\\cdot\\frac{1}{\\sqrt{\\phi_0-V}}$\n",
      "- (3.124): $\\phi_0=\\frac{kT}{q}\\text{ln}\\frac{N_A\\cdot N_D}{n_i^2}$\n",
      "\n",
      "Since there is no channel-stop implant, the area will be $A = (W\\times Y)+2(W\\times x_j)+2(Y\\times x_j)$. Note that for a reverse-biased junction, $V$ is negative."
     ]
    },
    {
     "cell_type": "code",
     "collapsed": false,
     "input": [
      "#Convert all units to SI base units (ie. change cm to m)\n",
      "N_D = cm2m(2e20,-3) # /m^3\n",
      "N_A = cm2m(2e20,-3) # /m^3\n",
      "V_bias = -1.2 # V\n",
      "W, Y, x_j = 0.4e-6, 0.2e-6, 32e-9 #all in m\n",
      "A = W*Y + 2*W*x_j + 2*Y*x_j #m^2\n",
      "phi_0 = kTq*log(N_A*N_D/(n_i**2))\n",
      "C_jV = A*sqrt((eps_Si*q/2)*(N_A*N_D/(N_A+N_D)))/sqrt(phi_0-V_bias)\n",
      "\n",
      "print('phi_0 = {:g} V'.format(phi_0))\n",
      "print('A = {:g} cm^2'.format(m2cm(A,2)))\n",
      "print('C_j(V = -1.2) = {:g} F'.format(C_jV))"
     ],
     "language": "python",
     "metadata": {},
     "outputs": [
      {
       "output_type": "stream",
       "stream": "stdout",
       "text": [
        "phi_0 = 1.20823 V\n",
        "A = 1.184e-09 cm^2\n",
        "C_j(V = -1.2) = 2.1959e-15 F\n"
       ]
      }
     ],
     "prompt_number": 5
    },
    {
     "cell_type": "markdown",
     "metadata": {},
     "source": [
      "**3.3)** Describe the relationship between the mask channel length, $L_M$, and the electrical channel length, $L$. Are they identical? In not, how would you express $L$ in terms of $L_M$ and other parameters?"
     ]
    },
    {
     "cell_type": "markdown",
     "metadata": {},
     "source": [
      "**Solution:** The electrical channel length is related to the mask channel length by: $L=L_M-2L_D$, where $L_D$ is the lateral diffusion length."
     ]
    },
    {
     "cell_type": "markdown",
     "metadata": {},
     "source": [
      "**3.6)** Consider a layout of an nMOS transistor shown in Fig. P3.6. The process parameters are\n",
      "- $N_D=2\\cdot10^{20}\\,\\text{cm}^{-3}$\n",
      "- $N_A=2\\cdot10^{20}\\,\\text{cm}^{-3}$\n",
      "- $x_j=32\\,\\text{nm}$\n",
      "- $L_D=10\\,\\text{nm}$\n",
      "- $t_{ox}=1.6\\,\\text{nm}$\n",
      "- $V_{T0}=0.53\\,\\text{V}$\n",
      "- $(\\text{Channel stop doping})=16.0\\times(\\text{p-type substrate doping})$\n",
      "\n",
      "Find the effective drain parasitic capacitance when the drain node voltage changes from $1.2\\,\\text{V}$ to $0.6\\,\\text{V}$."
     ]
    },
    {
     "cell_type": "code",
     "collapsed": false,
     "input": [
      "Image(filename='fig_p3.6.png')"
     ],
     "language": "python",
     "metadata": {},
     "outputs": [
      {
       "metadata": {},
       "output_type": "pyout",
       "png": "[encoded data removed]",
       "prompt_number": 6,
       "text": [
        "<IPython.core.display.Image at 0x43f0f60>"
       ]
      }
     ],
     "prompt_number": 6
    },
    {
     "cell_type": "markdown",
     "metadata": {},
     "source": [
      "**Solution:** Following example 3.9, we use the following equations for the drain-subtrate junction and the drain-sidewall junction\n",
      "- (3.133): $C_{eq}=A\\cdot C_{j0}\\cdot K_{eq}$\n",
      "- (3.127): $C_j0=\\sqrt{\\frac{\\varepsilon_{Si}\\cdot q}{2}\\left(\\frac{N_A\\cdot N_D}{N_A + N_D}\\right)\\frac{1}{\\phi_0}}$\n",
      "- (3.124): $\\phi_0=\\frac{kT}{q}\\text{ln}\\frac{N_A\\cdot N_D}{n_i^2}$\n",
      "- (3.134): $K_{eq}=\\frac{-2\\sqrt{\\phi_0}}{V_2-V_1}\\cdot\\left(\\sqrt{\\phi_0-V_2}-\\sqrt{\\phi_0-V_1}\\right)$\n",
      "\n",
      "Note that the drain-subtrate area will be $A = (W\\times Y) + (W\\times x_j)$, and the sidewall area will be $A_{sw} = (W\\times x_j) + 2 (Y\\times x_j)$."
     ]
    },
    {
     "cell_type": "code",
     "collapsed": false,
     "input": [
      "#Convert all of the given quantities to SI base units:\n",
      "N_D = cm2m(2e20,-3) # /m^3\n",
      "N_A = cm2m(2e20,-3) # /m^3\n",
      "W,Y,x_j = 10e-6,6e-6,32e-9 # m, m, m\n",
      "L_D = 10e-9 # m\n",
      "t_ox = 1.6e-9 # m\n",
      "V_T0 = 0.53 # V\n",
      "N_Asw = 16*N_A #/m^3\n",
      "V_1 = -1.2 # V (negative for reverse-bias condition)\n",
      "V_2 = -0.6 # V (negative for reverse-bias condition)\n",
      "\n",
      "\n",
      "# Eq. (3.124) for the n+/p junction\n",
      "phi_0 = kTq*log(N_A*N_D/(n_i**2))\n",
      "#  and for the n+/p+ sidewall junction\n",
      "phi_0sw = kTq*log(N_Asw*N_D/(n_i**2))\n",
      "\n",
      "# Eq. (3.127) for the capacitance/area for the n+/p junction\n",
      "C_j0 = sqrt((eps_Si*q/2)*(N_A*N_D/(N_A+N_D))/phi_0)\n",
      "#  and for the n+/p+ sidewall junction\n",
      "C_j0sw = sqrt((eps_Si*q/2)*(N_Asw*N_D/(N_Asw+N_D))/phi_0sw)\n",
      "\n",
      "# Eq. (3.134) for the n+/p junction\n",
      "K_eq = (-2*sqrt(phi_0)/(V_2 - V_1))*(sqrt(phi_0-V_2)-sqrt(phi_0-V_1))\n",
      "#  and for the n+/p+ sidewall junction\n",
      "K_eqsw = (-2*sqrt(phi_0sw)/(V_2 - V_1))*(sqrt(phi_0sw-V_2)-sqrt(phi_0sw-V_1))\n",
      "\n",
      "#junction areas:\n",
      "A = W*Y+W*x_j\n",
      "Asw = W*x_j+2*Y*x_j\n",
      "\n",
      "#total capacitance:\n",
      "C_eq = A*C_j0*K_eq + Asw*C_j0sw*K_eqsw\n",
      "\n",
      "print('phi_0   = {:g} V'.format(phi_0))\n",
      "print('phi_0sw = {:g} V'.format(phi_0sw))\n",
      "print('C_j0   = {:g} F/cm^2'.format(m2cm(C_j0,-2)))\n",
      "print('C_j0sw = {:g} F/cm^2'.format(m2cm(C_j0sw,-2)))\n",
      "print('K_eq   = {:g} F/F'.format(K_eq))\n",
      "print('K_eqsw = {:g} F/F'.format(K_eqsw))\n",
      "print('A   = {:g} cm^2'.format(m2cm(A,2)))\n",
      "print('Asw = {:g} cm^2'.format(m2cm(Asw,2)))\n",
      "print('C_eq = {:g} F'.format(C_eq))"
     ],
     "language": "python",
     "metadata": {},
     "outputs": [
      {
       "output_type": "stream",
       "stream": "stdout",
       "text": [
        "phi_0   = 1.20823 V\n",
        "phi_0sw = 1.27997 V\n",
        "C_j0   = 2.61839e-06 F/cm^2\n",
        "C_j0sw = 3.49028e-06 F/cm^2\n",
        "K_eq   = 0.758968 F/F\n",
        "K_eqsw = 0.768087 F/F\n",
        "A   = 6.032e-07 cm^2\n",
        "Asw = 7.04e-09 cm^2\n",
        "C_eq = 1.2176e-12 F\n"
       ]
      }
     ],
     "prompt_number": 7
    },
    {
     "cell_type": "markdown",
     "metadata": {},
     "source": [
      "**3.9)** A pMOS transistor was fabricated on an n-type substrate with a bulk doping density of $N_D=1\\cdot 10^{16}\\,\\text{cm}^{-3}$, a gate doping density (n-type poly) of $N_D=10^{20}\\,\\text{cm}^{-3}$, $Q_{ox}/q=4\\cdot 10^{10}\\,\\text{cm}^{-2}$, and a gate oxide thickness of $t_{ox}=1.6\\,\\text{nm}$. Calculate the threshold voltage at room temperature for $V_{SB}=0$. Use $\\varepsilon_{Si}=11.7\\varepsilon_0$."
     ]
    },
    {
     "cell_type": "markdown",
     "metadata": {},
     "source": [
      "**Solution:** This is similar to problem (3.1) but for a pMOS. We'll use equations:\n",
      "- (3.19): $V_{T0}=\\phi_{GC}-2\\phi_{F,substrate}-\\frac{Q_{B0}}{C_{ox}}-\\frac{Q_{ox}}{C_{ox}}$\n",
      "- (3.15): $\\phi_{GC}=\\phi_{F,substrate}-\\phi_{F,gate}$\n",
      "- (3.5): $\\phi_{F,n}=\\frac{kT}{q}\\text{ln}\\left(\\frac{N_D}{n_i}\\right)$\n",
      "- (3.16) modified for pMOS: $Q_{B0}=\\sqrt{2 q N_D \\varepsilon_{Si}\\left|2 \\phi_{F,substrate}\\right|}$\n",
      "- (3.18): $C_{ox}=\\varepsilon_{ox}/t_{ox}$"
     ]
    },
    {
     "cell_type": "code",
     "collapsed": false,
     "input": [
      "#Given quantities, in SI base units (convert cm to m!)\n",
      "N_Dsub = cm2m(1e16,-3) # /m^3\n",
      "N_Dgate = cm2m(1e20,-3) # /m^3\n",
      "Q_ox = cm2m(q*4e10,-2) # C/m^2\n",
      "t_ox = 1.6e-9\n",
      "\n",
      "# compute Fermi potentials: Eq's (3.5) and (3.15)\n",
      "phi_Fsub = kTq*log(N_Dsub/n_i)\n",
      "phi_Fgate = kTq*log(N_Dgate/n_i)\n",
      "phi_GC = phi_Fsub - phi_Fgate\n",
      "\n",
      "# compute depletion region charge density\n",
      "Q_B0 = sqrt(2*q*N_Dsub*eps_Si*abs(2*phi_Fsub))\n",
      "\n",
      "#oxide capacitance per area\n",
      "C_ox = eps_ox/t_ox\n",
      "\n",
      "V_T0 = phi_GC - 2*phi_Fsub - Q_B0/C_ox - Q_ox/C_ox\n",
      "\n",
      "print('phi_Fsub = {:g} V'.format(phi_Fsub))\n",
      "print('phi_Fgate = {:g} V'.format(phi_Fgate))\n",
      "print('phi_GC = {:g} V'.format(phi_GC))\n",
      "print('Q_B0 = {:g} C/cm^2'.format(m2cm(Q_B0,-2)))\n",
      "print('Q_ox = {:g} C/cm^2'.format(m2cm(Q_ox,-2)))\n",
      "print('C_ox = {:g} F/cm^2'.format(m2cm(C_ox,-2)))\n",
      "print('V_T0 = {:g} V'.format(V_T0))"
     ],
     "language": "python",
     "metadata": {},
     "outputs": [
      {
       "output_type": "stream",
       "stream": "stdout",
       "text": [
        "phi_Fsub = 0.347862 V\n",
        "phi_Fgate = 0.58618 V\n",
        "phi_GC = -0.238318 V\n",
        "Q_B0 = 4.80129e-08 C/cm^2\n",
        "Q_ox = 6.4e-09 C/cm^2\n",
        "C_ox = 2.19591e-06 F/cm^2\n",
        "V_T0 = -0.958821 V\n"
       ]
      }
     ],
     "prompt_number": 8
    },
    {
     "cell_type": "markdown",
     "metadata": {},
     "source": [
      "**3.10)** Using the parameters given, calculate the current through two nMOS transistors in series (see Fig. P3.10) when the drain of the top transistor is tied to $V_{DD}=1\\,\\text{V}$, the source of the bottom transistor is tied to $V_{SS}=0\\,\\text{V}$, their gates are tied to $V_{DD}$ and their substrates are tied to $V_{SS}$. Assume that $W/L=10$ and $L=4\\,\\mu\\text{m}$ for both transistors.\n",
      "- $k^\\prime=168\\,\\mu\\text{A}/\\text{V}^2$\n",
      "- $V_{T0}=0.48\\,\\text{V}$\n",
      "- $\\gamma=0.52\\,\\text{V}^{1/2}$\n",
      "- $|2\\phi_F|=1.01\\,\\text{V}$\n",
      "\n",
      "Hint: The solution requires several iterations, and the body effect on threshold voltage has to be taken into account. Start with the KCL (Kirchhoff's Current Law) equation."
     ]
    },
    {
     "cell_type": "code",
     "collapsed": false,
     "input": [
      "Image(filename='fig_p3.10.png')"
     ],
     "language": "python",
     "metadata": {},
     "outputs": [
      {
       "metadata": {},
       "output_type": "pyout",
       "png": "[encoded data removed]",
       "prompt_number": 9,
       "text": [
        "<IPython.core.display.Image at 0x43f0eb8>"
       ]
      }
     ],
     "prompt_number": 9
    },
    {
     "cell_type": "markdown",
     "metadata": {},
     "source": [
      "**Solution:** Label the top transistor $Q1$, the bottom $Q2$ and the node between them $V_x$:"
     ]
    },
    {
     "cell_type": "code",
     "collapsed": false,
     "input": [
      "Image(filename='fig_p3.10_soln.png')"
     ],
     "language": "python",
     "metadata": {},
     "outputs": [
      {
       "metadata": {},
       "output_type": "pyout",
       "png": "[encoded data removed]",
       "prompt_number": 10,
       "text": [
        "<IPython.core.display.Image at 0x708e4e0>"
       ]
      }
     ],
     "prompt_number": 10
    },
    {
     "cell_type": "markdown",
     "metadata": {},
     "source": [
      "The two transistors have reverse-biased source-base and drain-base junctions, so no current will flow through their bases in the steady state. No current will flow through the gates of the transistors, so according to Kirchoff's current law, the drain currents of the two transistors will be equal: $I_D = I_{D1} = I_{D2}$.\n",
      "\n",
      "Since $L = 4\\,\\mu\\text{m}$ and no channel length modulation term is given, we will use the long-channel nMOS model with $\\lambda = 0$:\n",
      "- (3.54) $I_D = 0$ for $V_{GS} < V_T$\n",
      "- (3.55) $I_{D,linear} = \\frac{\\mu_n C_{ox}}{2}\\frac{W}{L}\\left(2\\left(V_{GS}-V_T\\right) V_{DS} - V_{DS}^2\\right)$ for $V_{GS} \\ge V_T$ and $V_{DS} < V_{GS}-V_T$\n",
      "- (3.56) $I_{D,sat} = \\frac{\\mu_n C_{ox}}{2}\\frac{W}{L}\\left(V_{GS}-V_T\\right)^2\\left(1+\\lambda V_{DS}\\right)$ for $V_{GS} \\ge V_T$ and $V_{DS} \\ge V_{GS}-V_T$\n",
      "- (3.50) $V_T = V_{T0}+\\gamma\\left(\\sqrt{\\left|2\\phi_F\\right|+V_{SB}}-\\sqrt{\\left|2\\phi_F\\right|}\\right)$\n",
      "\n",
      "We need to solve the equality: $I_{D1}\\left(V_{GS1},V_{DS1},V_{SB1}\\right) = I_{D2}\\left(V_{GS2},V_{DS2},V_{SB2}\\right)$\n",
      "\n",
      "Examining the circuit, we can see that:\n",
      "- $V_{GS1} = 1-V_x$, $V_{DS1} = 1 - V_x$, $V_{SB1} = V_x$\n",
      "- $V_{GS2} = 1$, $V_{DS2} = V_x$, $V_{SB2} = 0$\n",
      "\n",
      "Which simplifies the equality to: $I_{D1}\\left(1-V_x,1-V_x,V_x\\right) = I_{D2}\\left(1,V_x,0\\right)$\n",
      "\n",
      "Now we can start making decisions about which modes $T1$ and $T2$ are operating in.\n",
      "- Since $V_{SB2} = 0$, $Q2$ will have no threshold voltage changes. $V_{SB1} = V_x$, so $Q1$ will have such changes.\n",
      "- Since $V_{GS2} = 1 > V_{T0} = 0.48$, $Q2$ will not operate in cut-off mode--it will be in either linear or saturation if $V_x \\ge 1 - V_{T0}$.\n",
      "- Since $V_{GS1} = V_{DS1} = 1 - V_x$, $Q1$ will not operate in linear mode--it will either be in saturation mode or cut-off if $1-V_x < V_{T1}$ or $V_x > 1 - V_{T1}$\n",
      "- Since $V_{T1} = V_{T0} + \\gamma (\\cdots) \\ge V_{T0}$, then if $V_x \\ge 1 - V_{T0}$, $Q1$ will be off and $Q2$ will be in saturation. This is a contradiction, so $Q2$ must be in linear mode.\n",
      "\n",
      "Now we can reformulate the problem in terms of $V_x$. We want to solve $I_{D1}(V_x) - I_{D2}(V_x) = 0$, where\n",
      "- $V_{T1} = V_{T0}+\\gamma\\left(\\sqrt{\\left|2\\phi_F\\right|+V_x}-\\sqrt{\\left|2\\phi_F\\right|}\\right)$\n",
      "- $I_{D1} = \\frac{\\mu_n C_{ox}}{2}\\frac{W}{L}\\left(1-V_x-V_{T1}\\right)^2$\n",
      "- $I_{D2} = \\frac{\\mu_n C_{ox}}{2}\\frac{W}{L}\\left(2\\left(1-V_{T0}\\right) V_x - V_x^2\\right)$\n",
      "- and $V_x \\le 1 - V_{T1}$.\n",
      "\n",
      "So finally, we solve $\\left(1-V_x-V_{T1}\\right)^2 - \\left(2\\left(1-V_{T0}\\right) V_x - V_x^2\\right) = 0$ for $V_x$ and substitute $V_x$ back into either of the current equations to get the final answer."
     ]
    },
    {
     "cell_type": "code",
     "collapsed": false,
     "input": [
      "V_T0 = 0.48 # V\n",
      "gamma = 0.52 # V^0.5\n",
      "two_phi_F = 1.01 # V\n",
      "k_prime = 168e-6 # A/V^2\n",
      "WL = 10 #m/m\n",
      "\n",
      "def problem310(Vx):\n",
      "    V_T1 = V_T0 + gamma*(sqrt(two_phi_F + Vx) - sqrt(two_phi_F))\n",
      "    return (1 - Vx - V_T1)**2 - (2*(1 - V_T0)*Vx - Vx**2)\n",
      "\n",
      "#use newton's method for finding roots. \n",
      "# See http://docs.scipy.org/doc/scipy/reference/generated/scipy.optimize.newton.html\n",
      "from scipy.optimize import newton \n",
      "\n",
      "V_x = newton(problem310, 0) #start with Vx = 0, since we know that doesn't violate any constraints\n",
      "\n",
      "#use I_D2 equation, since it only has V_T0\n",
      "I_D = k_prime*WL*((1-V_T0)*V_x-0.5*V_x**2)\n",
      "\n",
      "print('V_x = {:g} V'.format(V_x))\n",
      "print('I_D = {:g} A'.format(I_D))"
     ],
     "language": "python",
     "metadata": {},
     "outputs": [
      {
       "output_type": "stream",
       "stream": "stdout",
       "text": [
        "V_x = 0.135698 V\n",
        "I_D = 0.000103078 A\n"
       ]
      }
     ],
     "prompt_number": 11
    },
    {
     "cell_type": "markdown",
     "metadata": {},
     "source": [
      "##2. MOSIS NMOS Threshold Voltage\n",
      "Given the model parameters for the NMOS transistor from MOSIS (https://www.mosis.com/cgi-bin/cgiwrap/umosis/swp/params/ami-c5/v3bm-params.txt), compute the threshold voltage assuming the Fermi level for the poly-silicon gate is $0.1\\,\\text{eV}$ below the intrinsic Fermi level of silicon and the impurities in the gate oxide are $10^4\\,\\text{holes}/\\text{cm}^2$."
     ]
    },
    {
     "cell_type": "markdown",
     "metadata": {},
     "source": [
      "**Solution:** Similar to problem (3.1):\n",
      "- (3.19): $V_{T0}=\\phi_{GC}-2\\phi_{F,substrate}-\\frac{Q_{B0}}{C_{ox}}-\\frac{Q_{ox}}{C_{ox}}$\n",
      "- (3.3): $\\phi_{F,gate} = (E_{F,gate} - E_i)/q$\n",
      "- (3.4): $\\phi_{F,p}=\\frac{kT}{q}\\text{ln}\\left(\\frac{n_i}{N_A}\\right)$\n",
      "- (3.15): $\\phi_{GC}=\\phi_{F,substrate}-\\phi_{F,gate}$\n",
      "- (3.16): $Q_{B0}=-\\sqrt{2 q N_A \\varepsilon_{Si}\\left|-2 \\phi_{F,substrate}\\right|}$\n",
      "- (3.18): $C_{ox}=\\varepsilon_{ox}/t_{ox}$\n",
      "\n",
      "Note that $E_{F,gate} = E_i - 0.1\\,\\text{eV}$, so $\\phi_{F,gate} = (E_i - 0.1\\,\\text{eV} - E_i)/q = -0.1\\,\\text{V}$"
     ]
    },
    {
     "cell_type": "code",
     "collapsed": false,
     "input": [
      "#given in problem\n",
      "phi_Fgate = -0.1 # V\n",
      "Q_ox = cm2m(q*1e4,-2) # C/m^2\n",
      "\n",
      "#from MOSIS data sheet:\n",
      "t_ox = 1.4e-8 # m\n",
      "N_A = cm2m(1.7e17,-3) # /m^3\n",
      "\n",
      "\n",
      "#Eq. (3.4)\n",
      "phi_Fsub = 0.026 * log(n_i/N_A)\n",
      "#Eq. (3.15)\n",
      "phi_GC = phi_Fsub - phi_Fgate\n",
      "#Eq. (3.16)\n",
      "Q_B0 = -sqrt(2*q*N_A*eps_Si*abs(-2*phi_Fsub))\n",
      "#Eq. (3.18)\n",
      "C_ox = eps_ox/t_ox\n",
      "#Eq. (3.19)\n",
      "V_T0 = phi_GC - 2*phi_Fsub - Q_B0/C_ox - Q_ox/C_ox\n",
      "#display in cm\n",
      "print('phi_Fsub = {:g} V'.format(phi_Fsub))\n",
      "print('Q_B0 = {:g} C/cm^2'.format(m2cm(Q_B0,-2)))\n",
      "print('Q_ox = {:g} C/cm^2'.format(m2cm(Q_ox,-2)))\n",
      "print('C_ox = {:g} F/cm^2'.format(m2cm(C_ox,-2)))\n",
      "print('V_T0 = {:g} V'.format(V_T0))"
     ],
     "language": "python",
     "metadata": {},
     "outputs": [
      {
       "output_type": "stream",
       "stream": "stdout",
       "text": [
        "phi_Fsub = -0.423206 V\n",
        "Q_B0 = -2.18351e-07 C/cm^2\n",
        "Q_ox = 1.6e-15 C/cm^2\n",
        "C_ox = 2.50961e-07 F/cm^2\n",
        "V_T0 = 1.39327 V\n"
       ]
      }
     ],
     "prompt_number": 12
    }
   ],
   "metadata": {}
  }
 ]
}